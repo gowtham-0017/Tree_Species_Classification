{
  "nbformat": 4,
  "nbformat_minor": 0,
  "metadata": {
    "colab": {
      "provenance": [],
      "authorship_tag": "ABX9TyProu66o6x15KrFyniitfww",
      "include_colab_link": true
    },
    "kernelspec": {
      "name": "python3",
      "display_name": "Python 3"
    },
    "language_info": {
      "name": "python"
    }
  },
  "cells": [
    {
      "cell_type": "markdown",
      "metadata": {
        "id": "view-in-github",
        "colab_type": "text"
      },
      "source": [
        "<a href=\"https://colab.research.google.com/github/gowtham-0017/Tree_Species_Classification/blob/main/Tree_Species_Classification.ipynb\" target=\"_parent\"><img src=\"https://colab.research.google.com/assets/colab-badge.svg\" alt=\"Open In Colab\"/></a>"
      ]
    },
    {
      "cell_type": "code",
      "execution_count": 1,
      "metadata": {
        "colab": {
          "base_uri": "https://localhost:8080/"
        },
        "id": "Gf3xUMSHcKWN",
        "outputId": "c0d6e3dd-66cd-42c2-a755-e277b292e1f6"
      },
      "outputs": [
        {
          "output_type": "stream",
          "name": "stdout",
          "text": [
            "Requirement already satisfied: kagglehub in /usr/local/lib/python3.11/dist-packages (0.3.12)\n",
            "Requirement already satisfied: packaging in /usr/local/lib/python3.11/dist-packages (from kagglehub) (25.0)\n",
            "Requirement already satisfied: pyyaml in /usr/local/lib/python3.11/dist-packages (from kagglehub) (6.0.2)\n",
            "Requirement already satisfied: requests in /usr/local/lib/python3.11/dist-packages (from kagglehub) (2.32.3)\n",
            "Requirement already satisfied: tqdm in /usr/local/lib/python3.11/dist-packages (from kagglehub) (4.67.1)\n",
            "Requirement already satisfied: charset-normalizer<4,>=2 in /usr/local/lib/python3.11/dist-packages (from requests->kagglehub) (3.4.2)\n",
            "Requirement already satisfied: idna<4,>=2.5 in /usr/local/lib/python3.11/dist-packages (from requests->kagglehub) (3.10)\n",
            "Requirement already satisfied: urllib3<3,>=1.21.1 in /usr/local/lib/python3.11/dist-packages (from requests->kagglehub) (2.4.0)\n",
            "Requirement already satisfied: certifi>=2017.4.17 in /usr/local/lib/python3.11/dist-packages (from requests->kagglehub) (2025.7.14)\n",
            "⏳ Downloading dataset...\n",
            "✅ Path to dataset files: /kaggle/input/tree-species-identification-dataset\n",
            "✅ Dataset copied successfully to: /content/tree-species-dataset\n",
            "\n",
            "📂 Files in the dataset folder:\n",
            "['Tree_Species_Dataset']\n"
          ]
        }
      ],
      "source": [
        "# ✅ STEP 1: Install and Import KaggleHub\n",
        "!pip install kagglehub\n",
        "import kagglehub\n",
        "\n",
        "# ✅ STEP 2: Download the Tree Species Dataset\n",
        "print(\"⏳ Downloading dataset...\")\n",
        "path = kagglehub.dataset_download(\"viditgandhi/tree-species-identification-dataset\")\n",
        "print(\"✅ Path to dataset files:\", path)\n",
        "\n",
        "# ✅ STEP 3: Copy the Dataset to /content\n",
        "import shutil\n",
        "import os\n",
        "\n",
        "source_path = path\n",
        "destination_path = '/content/tree-species-dataset'\n",
        "\n",
        "try:\n",
        "    shutil.copytree(source_path, destination_path)  # ✅ Copy instead of Move\n",
        "    print(f\"✅ Dataset copied successfully to: {destination_path}\")\n",
        "except FileExistsError:\n",
        "    print(\"⚠️ Dataset already exists in the destination.\")\n",
        "except Exception as e:\n",
        "    print(f\"⚠️ Error copying dataset: {e}\")\n",
        "\n",
        "# ✅ STEP 4: Check the Files in the Dataset\n",
        "print(\"\\n📂 Files in the dataset folder:\")\n",
        "print(os.listdir(destination_path))\n"
      ]
    }
  ]
}